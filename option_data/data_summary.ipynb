{
 "cells": [
  {
   "cell_type": "markdown",
   "metadata": {},
   "source": [
    "Generate data summary table"
   ]
  },
  {
   "cell_type": "code",
   "execution_count": 2,
   "metadata": {},
   "outputs": [],
   "source": [
    "import pandas as pd\n",
    "import numpy as np\n",
    "import datetime\n",
    "import os"
   ]
  },
  {
   "cell_type": "code",
   "execution_count": 3,
   "metadata": {},
   "outputs": [],
   "source": [
    "frames = []\n",
    "\n",
    "for file in os.listdir('spy_data'):\n",
    "    if file[-4:] == '.csv':\n",
    "        df = pd.read_csv('spy_data/' + file)\n",
    "        df['quote_datetime'] = pd.to_datetime(df['quote_datetime'])\n",
    "        df['expiration'] = pd.to_datetime(df['expiration'])\n",
    "        df['quote_date'] = df['quote_datetime'][0].date()\n",
    "        df['quote_date'] = pd.to_datetime(df['quote_date'])\n",
    "        \n",
    "        eod = datetime.datetime.combine(df['quote_datetime'][0].date(), datetime.time(16,0, 0))\n",
    "        df = df.loc[df['quote_datetime'] == eod]\n",
    "        \n",
    "        df = df[['quote_date', 'expiration', 'strike', 'option_type', 'close', 'active_underlying_price', 'implied_volatility']]\n",
    "        \n",
    "        frames.append(df)"
   ]
  },
  {
   "cell_type": "code",
   "execution_count": 4,
   "metadata": {},
   "outputs": [],
   "source": [
    "options = pd.concat(frames)"
   ]
  },
  {
   "cell_type": "code",
   "execution_count": 5,
   "metadata": {},
   "outputs": [],
   "source": [
    "options['T'] = options['expiration'] - options['quote_date']\n",
    "options['T'] = options['T'].dt.days\n",
    "options['moneyness'] = options.apply(lambda row : row[\"active_underlying_price\"] / row[\"strike\"] if row[\"option_type\"] == \"C\"\n",
    "                                     else row[\"strike\"] / row[\"active_underlying_price\"], axis=1)"
   ]
  },
  {
   "cell_type": "code",
   "execution_count": 6,
   "metadata": {},
   "outputs": [],
   "source": [
    "options = options.loc[(options['close']!=0)]"
   ]
  },
  {
   "cell_type": "code",
   "execution_count": 7,
   "metadata": {},
   "outputs": [
    {
     "data": {
      "text/html": [
       "<div>\n",
       "<style scoped>\n",
       "    .dataframe tbody tr th:only-of-type {\n",
       "        vertical-align: middle;\n",
       "    }\n",
       "\n",
       "    .dataframe tbody tr th {\n",
       "        vertical-align: top;\n",
       "    }\n",
       "\n",
       "    .dataframe thead th {\n",
       "        text-align: right;\n",
       "    }\n",
       "</style>\n",
       "<table border=\"1\" class=\"dataframe\">\n",
       "  <thead>\n",
       "    <tr style=\"text-align: right;\">\n",
       "      <th></th>\n",
       "      <th>quote_date</th>\n",
       "      <th>expiration</th>\n",
       "      <th>strike</th>\n",
       "      <th>option_type</th>\n",
       "      <th>close</th>\n",
       "      <th>active_underlying_price</th>\n",
       "      <th>implied_volatility</th>\n",
       "      <th>T</th>\n",
       "      <th>moneyness</th>\n",
       "    </tr>\n",
       "  </thead>\n",
       "  <tbody>\n",
       "    <tr>\n",
       "      <th>15470</th>\n",
       "      <td>2023-10-31</td>\n",
       "      <td>2026-01-16</td>\n",
       "      <td>500.0</td>\n",
       "      <td>P</td>\n",
       "      <td>82.0</td>\n",
       "      <td>418.235</td>\n",
       "      <td>0.1808</td>\n",
       "      <td>808</td>\n",
       "      <td>1.195500</td>\n",
       "    </tr>\n",
       "    <tr>\n",
       "      <th>15510</th>\n",
       "      <td>2023-10-31</td>\n",
       "      <td>2026-01-16</td>\n",
       "      <td>550.0</td>\n",
       "      <td>P</td>\n",
       "      <td>132.7</td>\n",
       "      <td>418.235</td>\n",
       "      <td>0.2384</td>\n",
       "      <td>808</td>\n",
       "      <td>1.315050</td>\n",
       "    </tr>\n",
       "    <tr>\n",
       "      <th>15520</th>\n",
       "      <td>2023-10-31</td>\n",
       "      <td>2026-01-16</td>\n",
       "      <td>565.0</td>\n",
       "      <td>C</td>\n",
       "      <td>7.5</td>\n",
       "      <td>418.235</td>\n",
       "      <td>0.1390</td>\n",
       "      <td>808</td>\n",
       "      <td>0.740239</td>\n",
       "    </tr>\n",
       "    <tr>\n",
       "      <th>15550</th>\n",
       "      <td>2023-10-31</td>\n",
       "      <td>2026-01-16</td>\n",
       "      <td>600.0</td>\n",
       "      <td>P</td>\n",
       "      <td>183.1</td>\n",
       "      <td>418.235</td>\n",
       "      <td>0.2875</td>\n",
       "      <td>808</td>\n",
       "      <td>1.434600</td>\n",
       "    </tr>\n",
       "    <tr>\n",
       "      <th>15604</th>\n",
       "      <td>2023-10-31</td>\n",
       "      <td>2026-01-16</td>\n",
       "      <td>670.0</td>\n",
       "      <td>C</td>\n",
       "      <td>1.0</td>\n",
       "      <td>418.235</td>\n",
       "      <td>0.1323</td>\n",
       "      <td>808</td>\n",
       "      <td>0.624231</td>\n",
       "    </tr>\n",
       "  </tbody>\n",
       "</table>\n",
       "</div>"
      ],
      "text/plain": [
       "      quote_date expiration  strike option_type  close  \\\n",
       "15470 2023-10-31 2026-01-16   500.0           P   82.0   \n",
       "15510 2023-10-31 2026-01-16   550.0           P  132.7   \n",
       "15520 2023-10-31 2026-01-16   565.0           C    7.5   \n",
       "15550 2023-10-31 2026-01-16   600.0           P  183.1   \n",
       "15604 2023-10-31 2026-01-16   670.0           C    1.0   \n",
       "\n",
       "       active_underlying_price  implied_volatility    T  moneyness  \n",
       "15470                  418.235              0.1808  808   1.195500  \n",
       "15510                  418.235              0.2384  808   1.315050  \n",
       "15520                  418.235              0.1390  808   0.740239  \n",
       "15550                  418.235              0.2875  808   1.434600  \n",
       "15604                  418.235              0.1323  808   0.624231  "
      ]
     },
     "execution_count": 7,
     "metadata": {},
     "output_type": "execute_result"
    }
   ],
   "source": [
    "options.tail()"
   ]
  },
  {
   "cell_type": "markdown",
   "metadata": {},
   "source": [
    "Categorize data into the following:\n",
    "\n",
    "ITM, OTM, ATM\n",
    "Calls vs Puts\n",
    "TTM 1-20, 20-365, 365-1095 days"
   ]
  },
  {
   "cell_type": "code",
   "execution_count": 8,
   "metadata": {},
   "outputs": [],
   "source": [
    "calls = options.loc[options['option_type']=='C']\n",
    "calls_p1 = calls.loc[(1 < calls['T']) & (calls['T'] <= 20)]\n",
    "calls_p2 = calls.loc[(20 < calls['T']) & (calls['T'] <= 365)]\n",
    "calls_p3 = calls.loc[(365 < calls['T']) & (calls['T'] <= 1095)]\n",
    "calls_atm = calls.loc[abs(calls['moneyness'] - 1) <= 0.01]\n",
    "calls_itm = calls.loc[calls['moneyness'] - 1 > 0.01]\n",
    "calls_otm = calls.loc[1 - calls['moneyness'] > 0.01]\n",
    "\n",
    "puts = options.loc[options['option_type']=='P']\n",
    "puts_p1 = puts.loc[(1 < puts['T']) & (puts['T'] <= 20)]\n",
    "puts_p2 = puts.loc[(20 < puts['T']) & (puts['T'] <= 365)]\n",
    "puts_p3 = puts.loc[(365 < puts['T']) & (puts['T'] <= 1095)]\n",
    "puts_atm = puts.loc[abs(puts['moneyness'] - 1) <= 0.01]\n",
    "puts_itm = puts.loc[puts['moneyness'] - 1 > 0.01]\n",
    "puts_otm = puts.loc[1 - puts['moneyness'] > 0.01]"
   ]
  },
  {
   "cell_type": "code",
   "execution_count": 9,
   "metadata": {},
   "outputs": [],
   "source": [
    "calls_p1_atm = pd.merge(calls_p1, calls_atm, how=\"inner\")\n",
    "calls_p2_atm = pd.merge(calls_p2, calls_atm, how=\"inner\")\n",
    "calls_p3_atm = pd.merge(calls_p3, calls_atm, how=\"inner\")\n",
    "\n",
    "calls_p1_itm = pd.merge(calls_p1, calls_itm, how=\"inner\")\n",
    "calls_p2_itm = pd.merge(calls_p2, calls_itm, how=\"inner\")\n",
    "calls_p3_itm = pd.merge(calls_p3, calls_itm, how=\"inner\")\n",
    "\n",
    "calls_p1_otm = pd.merge(calls_p1, calls_otm, how=\"inner\")\n",
    "calls_p2_otm = pd.merge(calls_p2, calls_otm, how=\"inner\")\n",
    "calls_p3_otm = pd.merge(calls_p3, calls_otm, how=\"inner\")\n",
    "\n",
    "puts_p1_atm = pd.merge(puts_p1, puts_atm, how=\"inner\")\n",
    "puts_p2_atm = pd.merge(puts_p2, puts_atm, how=\"inner\")\n",
    "puts_p3_atm = pd.merge(puts_p3, puts_atm, how=\"inner\")\n",
    "\n",
    "puts_p1_itm = pd.merge(puts_p1, puts_itm, how=\"inner\")\n",
    "puts_p2_itm = pd.merge(puts_p2, puts_itm, how=\"inner\")\n",
    "puts_p3_itm = pd.merge(puts_p3, puts_itm, how=\"inner\")\n",
    "\n",
    "puts_p1_otm = pd.merge(puts_p1, puts_otm, how=\"inner\")\n",
    "puts_p2_otm = pd.merge(puts_p2, puts_otm, how=\"inner\")\n",
    "puts_p3_otm = pd.merge(puts_p3, puts_otm, how=\"inner\")"
   ]
  },
  {
   "cell_type": "code",
   "execution_count": 10,
   "metadata": {},
   "outputs": [
    {
     "name": "stderr",
     "output_type": "stream",
     "text": [
      "C:\\Users\\tejup\\AppData\\Local\\Temp\\ipykernel_11452\\3903512000.py:1: VisibleDeprecationWarning: Creating an ndarray from ragged nested sequences (which is a list-or-tuple of lists-or-tuples-or ndarrays with different lengths or shapes) is deprecated. If you meant to do this, you must specify 'dtype=object' when creating the ndarray.\n",
      "  call_cats = np.mat(np.array([\n",
      "C:\\Users\\tejup\\AppData\\Local\\Temp\\ipykernel_11452\\3903512000.py:7: VisibleDeprecationWarning: Creating an ndarray from ragged nested sequences (which is a list-or-tuple of lists-or-tuples-or ndarrays with different lengths or shapes) is deprecated. If you meant to do this, you must specify 'dtype=object' when creating the ndarray.\n",
      "  put_cats = np.mat(np.array([\n"
     ]
    }
   ],
   "source": [
    "call_cats = np.mat(np.array([\n",
    "    [calls, calls_atm, calls_itm, calls_otm],\n",
    "    [calls_p1, calls_p1_atm, calls_p1_itm, calls_p1_otm],\n",
    "    [calls_p2, calls_p2_atm, calls_p2_itm, calls_p2_otm],\n",
    "    [calls_p3, calls_p3_atm, calls_p3_itm, calls_p3_otm]\n",
    "]))\n",
    "put_cats = np.mat(np.array([\n",
    "    [puts, puts_atm, puts_itm, puts_otm],\n",
    "    [puts_p1, puts_p1_atm, puts_p1_itm, puts_p1_otm],\n",
    "    [puts_p2, puts_p2_atm, puts_p2_itm, puts_p2_otm],\n",
    "    [puts_p3, puts_p3_atm, puts_p3_itm, puts_p3_otm]\n",
    "]))"
   ]
  },
  {
   "cell_type": "code",
   "execution_count": 26,
   "metadata": {},
   "outputs": [],
   "source": [
    "cols = [\"Total\", \"ATM\", \"ITM\", \"OTM\"]\n",
    "rows = [\"Total\", \"1-20 days\", \"20-365 days\", \"365-1095 days\"]\n",
    "veclen = np.vectorize(len)\n",
    "vecmiv = np.vectorize(lambda x : np.mean(x['implied_volatility']))\n",
    "vecmp = np.vectorize(lambda x : np.mean(x[\"close\"]))"
   ]
  },
  {
   "cell_type": "code",
   "execution_count": 27,
   "metadata": {},
   "outputs": [
    {
     "name": "stdout",
     "output_type": "stream",
     "text": [
      "               Total   ATM    ITM    OTM\n",
      "Total          36604  4341  10055  22208\n",
      "1-20 days      11601  1822   3280   6499\n",
      "20-365 days    19156  2034   4859  12263\n",
      "365-1095 days   3475   151    961   2363\n",
      "                Total     ATM     ITM     OTM\n",
      "Total          0.2613  0.1813  0.4097  0.2097\n",
      "1-20 days      0.1952  0.1664  0.2589  0.1711\n",
      "20-365 days    0.1686  0.1696  0.2291  0.1445\n",
      "365-1095 days  0.1795  0.1943  0.2362  0.1555\n",
      "               Total    ATM     ITM    OTM\n",
      "Total          15.96  11.81   42.44   4.77\n",
      "1-20 days       7.29   4.71   22.25   0.46\n",
      "20-365 days    16.83  16.74   47.24   4.80\n",
      "365-1095 days  43.48  53.98  102.85  18.67\n",
      "               Total   ATM    ITM    OTM\n",
      "Total          44309  4427  11084  28798\n",
      "1-20 days      15115  1839   3527   9749\n",
      "20-365 days    22985  2093   5943  14949\n",
      "365-1095 days   3467   160    857   2450\n",
      "                Total     ATM     ITM     OTM\n",
      "Total          0.3325  0.1819  0.3084  0.3650\n",
      "1-20 days      0.2736  0.1665  0.2100  0.3168\n",
      "20-365 days    0.2467  0.1701  0.1757  0.2857\n",
      "365-1095 days  0.2489  0.1947  0.1991  0.2699\n",
      "               Total    ATM    ITM    OTM\n",
      "Total          10.26   8.69  29.24   3.20\n",
      "1-20 days       5.10   4.13  18.29   0.51\n",
      "20-365 days    11.67  12.16  30.81   3.99\n",
      "365-1095 days  27.22  30.78  72.18  11.26\n"
     ]
    }
   ],
   "source": [
    "print(pd.DataFrame(np.round(veclen(call_cats), 2), columns=cols, index=rows))\n",
    "print(pd.DataFrame(np.round(vecmiv(call_cats), 4), columns=cols, index=rows))\n",
    "print(pd.DataFrame(np.round(vecmp(call_cats), 2), columns=cols, index=rows))\n",
    "\n",
    "print(pd.DataFrame(np.round(veclen(put_cats), 2), columns=cols, index=rows))\n",
    "print(pd.DataFrame(np.round(vecmiv(put_cats), 4), columns=cols, index=rows))\n",
    "print(pd.DataFrame(np.round(vecmp(put_cats), 2), columns=cols, index=rows))"
   ]
  }
 ],
 "metadata": {
  "kernelspec": {
   "display_name": "ssmif_fm",
   "language": "python",
   "name": "python3"
  },
  "language_info": {
   "codemirror_mode": {
    "name": "ipython",
    "version": 3
   },
   "file_extension": ".py",
   "mimetype": "text/x-python",
   "name": "python",
   "nbconvert_exporter": "python",
   "pygments_lexer": "ipython3",
   "version": "3.9.16"
  }
 },
 "nbformat": 4,
 "nbformat_minor": 2
}
