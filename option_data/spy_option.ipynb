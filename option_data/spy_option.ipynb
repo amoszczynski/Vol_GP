{
 "cells": [
  {
   "cell_type": "code",
   "execution_count": 18,
   "metadata": {},
   "outputs": [],
   "source": [
    "import pandas as pd\n",
    "import numpy as np\n",
    "import os\n",
    "import datetime"
   ]
  },
  {
   "cell_type": "markdown",
   "metadata": {},
   "source": [
    "#### Extracting from CBOE file format to dataframe"
   ]
  },
  {
   "cell_type": "code",
   "execution_count": 94,
   "metadata": {},
   "outputs": [],
   "source": [
    "frames = []\n",
    "\n",
    "for file in os.listdir('spy_data'):\n",
    "    if file[-4:] == '.csv':\n",
    "        df = pd.read_csv('spy_data/' + file)\n",
    "        df['quote_datetime'] = pd.to_datetime(df['quote_datetime'])\n",
    "        df['expiration'] = pd.to_datetime(df['expiration'])\n",
    "        df['quote_date'] = df['quote_datetime'][0].date()\n",
    "        df['quote_date'] = pd.to_datetime(df['quote_date'])\n",
    "        \n",
    "        eod = datetime.datetime.combine(df['quote_datetime'][0].date(), datetime.time(16,0, 0))\n",
    "        df = df.loc[df['quote_datetime'] == eod]\n",
    "        \n",
    "        df = df[['quote_date', 'expiration', 'strike', 'option_type', 'close', 'active_underlying_price', 'implied_volatility']]\n",
    "        \n",
    "        frames.append(df)\n",
    "        "
   ]
  },
  {
   "cell_type": "code",
   "execution_count": 95,
   "metadata": {},
   "outputs": [],
   "source": [
    "options = pd.concat(frames)"
   ]
  },
  {
   "cell_type": "markdown",
   "metadata": {},
   "source": [
    "#### Calculating ML features"
   ]
  },
  {
   "cell_type": "code",
   "execution_count": 118,
   "metadata": {},
   "outputs": [],
   "source": [
    "options['T'] = options['expiration'] - options['quote_date']\n",
    "options['T'] = options['T'].dt.days\n",
    "options['moneyness'] = options['strike'] / options['active_underlying_price']"
   ]
  },
  {
   "cell_type": "markdown",
   "metadata": {},
   "source": [
    "#### Filtering into research paper criteria\n",
    "Non-zero prices, moneyness between 0.7-1.3, and time to expiration > 14"
   ]
  },
  {
   "cell_type": "code",
   "execution_count": 121,
   "metadata": {},
   "outputs": [],
   "source": [
    "filtered = options.loc[(options['close']!=0) & (options['T'] > 14) & (options['moneyness'] > 0.7) & (options['moneyness'] < 1.3)]\n"
   ]
  },
  {
   "cell_type": "code",
   "execution_count": 127,
   "metadata": {},
   "outputs": [],
   "source": [
    "calls = filtered.loc[filtered['option_type']=='C'][['T', 'moneyness', 'implied_volatility']]\n",
    "puts = filtered.loc[filtered['option_type']=='P'][['T', 'moneyness', 'implied_volatility']]"
   ]
  },
  {
   "cell_type": "code",
   "execution_count": 129,
   "metadata": {},
   "outputs": [],
   "source": [
    "calls.to_csv(\"SPY_calls.csv\")\n",
    "puts.to_csv(\"SPY_puts.csv\")"
   ]
  }
 ],
 "metadata": {
  "kernelspec": {
   "display_name": "vol",
   "language": "python",
   "name": "python3"
  },
  "language_info": {
   "codemirror_mode": {
    "name": "ipython",
    "version": 3
   },
   "file_extension": ".py",
   "mimetype": "text/x-python",
   "name": "python",
   "nbconvert_exporter": "python",
   "pygments_lexer": "ipython3",
   "version": "3.12.0"
  },
  "orig_nbformat": 4
 },
 "nbformat": 4,
 "nbformat_minor": 2
}
