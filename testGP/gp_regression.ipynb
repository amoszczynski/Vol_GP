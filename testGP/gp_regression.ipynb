{
 "cells": [
  {
   "cell_type": "code",
   "execution_count": 1,
   "metadata": {},
   "outputs": [],
   "source": [
    "import math\n",
    "import torch\n",
    "import gpytorch\n",
    "from matplotlib import pyplot as plt\n",
    "\n",
    "%matplotlib inline\n",
    "%load_ext autoreload\n",
    "%autoreload 2"
   ]
  },
  {
   "cell_type": "code",
   "execution_count": 15,
   "metadata": {},
   "outputs": [
    {
     "name": "stdout",
     "output_type": "stream",
     "text": [
      "torch.Size([100])\n",
      "torch.Size([100])\n"
     ]
    }
   ],
   "source": [
    "# Training data is 100 points in [0,1] inclusive regularly spaced\n",
    "train_x = torch.linspace(0, 1, 100)\n",
    "print(train_x.shape)\n",
    "# True function is sin(2*pi*x) with Gaussian noise\n",
    "train_y = torch.sin(train_x * (2 * math.pi)) + torch.randn(train_x.size()) * math.sqrt(0.04)\n",
    "\n",
    "print(train_y.shape)"
   ]
  },
  {
   "cell_type": "code",
   "execution_count": 16,
   "metadata": {},
   "outputs": [],
   "source": [
    "# We will use the simplest form of GP model, exact inference\n",
    "class ExactGPModel(gpytorch.models.ExactGP):\n",
    "    def __init__(self, train_x, train_y, likelihood):\n",
    "        super(ExactGPModel, self).__init__(train_x, train_y, likelihood)\n",
    "        self.mean_module = gpytorch.means.ConstantMean()\n",
    "        self.covar_module = gpytorch.kernels.ScaleKernel(gpytorch.kernels.RBFKernel())\n",
    "\n",
    "    def forward(self, x):\n",
    "        mean_x = self.mean_module(x)\n",
    "        covar_x = self.covar_module(x)\n",
    "        return gpytorch.distributions.MultivariateNormal(mean_x, covar_x)\n",
    "\n",
    "# initialize likelihood and model\n",
    "likelihood = gpytorch.likelihoods.GaussianLikelihood()\n",
    "model = ExactGPModel(train_x, train_y, likelihood)"
   ]
  },
  {
   "cell_type": "code",
   "execution_count": 17,
   "metadata": {},
   "outputs": [
    {
     "name": "stdout",
     "output_type": "stream",
     "text": [
      "Iter 1/50 - Loss: 0.948   lengthscale: 0.693   noise: 0.693\n",
      "Iter 2/50 - Loss: 0.917   lengthscale: 0.644   noise: 0.644\n",
      "Iter 3/50 - Loss: 0.883   lengthscale: 0.598   noise: 0.598\n",
      "Iter 4/50 - Loss: 0.845   lengthscale: 0.555   noise: 0.554\n",
      "Iter 5/50 - Loss: 0.801   lengthscale: 0.514   noise: 0.513\n",
      "Iter 6/50 - Loss: 0.752   lengthscale: 0.475   noise: 0.474\n",
      "Iter 7/50 - Loss: 0.700   lengthscale: 0.439   noise: 0.437\n",
      "Iter 8/50 - Loss: 0.646   lengthscale: 0.404   noise: 0.402\n",
      "Iter 9/50 - Loss: 0.595   lengthscale: 0.372   noise: 0.369\n",
      "Iter 10/50 - Loss: 0.548   lengthscale: 0.342   noise: 0.339\n",
      "Iter 11/50 - Loss: 0.506   lengthscale: 0.315   noise: 0.310\n",
      "Iter 12/50 - Loss: 0.468   lengthscale: 0.292   noise: 0.284\n",
      "Iter 13/50 - Loss: 0.433   lengthscale: 0.272   noise: 0.259\n",
      "Iter 14/50 - Loss: 0.398   lengthscale: 0.255   noise: 0.236\n",
      "Iter 15/50 - Loss: 0.364   lengthscale: 0.242   noise: 0.215\n",
      "Iter 16/50 - Loss: 0.331   lengthscale: 0.231   noise: 0.196\n",
      "Iter 17/50 - Loss: 0.298   lengthscale: 0.223   noise: 0.178\n",
      "Iter 18/50 - Loss: 0.266   lengthscale: 0.217   noise: 0.162\n",
      "Iter 19/50 - Loss: 0.233   lengthscale: 0.213   noise: 0.147\n",
      "Iter 20/50 - Loss: 0.202   lengthscale: 0.211   noise: 0.134\n",
      "Iter 21/50 - Loss: 0.171   lengthscale: 0.210   noise: 0.122\n",
      "Iter 22/50 - Loss: 0.141   lengthscale: 0.211   noise: 0.110\n",
      "Iter 23/50 - Loss: 0.112   lengthscale: 0.214   noise: 0.100\n",
      "Iter 24/50 - Loss: 0.084   lengthscale: 0.217   noise: 0.091\n",
      "Iter 25/50 - Loss: 0.058   lengthscale: 0.222   noise: 0.083\n",
      "Iter 26/50 - Loss: 0.035   lengthscale: 0.227   noise: 0.076\n",
      "Iter 27/50 - Loss: 0.013   lengthscale: 0.234   noise: 0.069\n",
      "Iter 28/50 - Loss: -0.006   lengthscale: 0.242   noise: 0.063\n",
      "Iter 29/50 - Loss: -0.022   lengthscale: 0.250   noise: 0.058\n",
      "Iter 30/50 - Loss: -0.036   lengthscale: 0.259   noise: 0.053\n",
      "Iter 31/50 - Loss: -0.046   lengthscale: 0.268   noise: 0.049\n",
      "Iter 32/50 - Loss: -0.052   lengthscale: 0.277   noise: 0.046\n",
      "Iter 33/50 - Loss: -0.056   lengthscale: 0.285   noise: 0.042\n",
      "Iter 34/50 - Loss: -0.057   lengthscale: 0.294   noise: 0.040\n",
      "Iter 35/50 - Loss: -0.056   lengthscale: 0.301   noise: 0.037\n",
      "Iter 36/50 - Loss: -0.053   lengthscale: 0.307   noise: 0.035\n",
      "Iter 37/50 - Loss: -0.049   lengthscale: 0.311   noise: 0.034\n",
      "Iter 38/50 - Loss: -0.045   lengthscale: 0.314   noise: 0.032\n",
      "Iter 39/50 - Loss: -0.041   lengthscale: 0.315   noise: 0.031\n",
      "Iter 40/50 - Loss: -0.038   lengthscale: 0.314   noise: 0.031\n",
      "Iter 41/50 - Loss: -0.036   lengthscale: 0.311   noise: 0.030\n",
      "Iter 42/50 - Loss: -0.035   lengthscale: 0.308   noise: 0.030\n",
      "Iter 43/50 - Loss: -0.035   lengthscale: 0.303   noise: 0.030\n",
      "Iter 44/50 - Loss: -0.036   lengthscale: 0.298   noise: 0.030\n",
      "Iter 45/50 - Loss: -0.038   lengthscale: 0.293   noise: 0.030\n",
      "Iter 46/50 - Loss: -0.040   lengthscale: 0.289   noise: 0.030\n",
      "Iter 47/50 - Loss: -0.042   lengthscale: 0.284   noise: 0.031\n",
      "Iter 48/50 - Loss: -0.045   lengthscale: 0.281   noise: 0.032\n",
      "Iter 49/50 - Loss: -0.047   lengthscale: 0.278   noise: 0.032\n",
      "Iter 50/50 - Loss: -0.050   lengthscale: 0.275   noise: 0.033\n"
     ]
    }
   ],
   "source": [
    "# this is for running the notebook in our testing framework\n",
    "import os\n",
    "smoke_test = ('CI' in os.environ)\n",
    "training_iter = 2 if smoke_test else 50\n",
    "\n",
    "# Find optimal model hyperparameters\n",
    "model.train()\n",
    "likelihood.train()\n",
    "\n",
    "# Use the adam optimizer\n",
    "optimizer = torch.optim.Adam(model.parameters(), lr=0.1)  # Includes GaussianLikelihood parameters\n",
    "\n",
    "# \"Loss\" for GPs - the marginal log likelihood\n",
    "mll = gpytorch.mlls.ExactMarginalLogLikelihood(likelihood, model)\n",
    "\n",
    "for i in range(training_iter):\n",
    "    # Zero gradients from previous iteration\n",
    "    optimizer.zero_grad()\n",
    "    # Output from model\n",
    "    output = model(train_x)\n",
    "    # Calc loss and backprop gradients\n",
    "    loss = -mll(output, train_y)\n",
    "    loss.backward()\n",
    "    print('Iter %d/%d - Loss: %.3f   lengthscale: %.3f   noise: %.3f' % (\n",
    "        i + 1, training_iter, loss.item(),\n",
    "        model.covar_module.base_kernel.lengthscale.item(),\n",
    "        model.likelihood.noise.item()\n",
    "    ))\n",
    "    optimizer.step()"
   ]
  },
  {
   "cell_type": "code",
   "execution_count": 18,
   "metadata": {},
   "outputs": [
    {
     "name": "stdout",
     "output_type": "stream",
     "text": [
      "tensor([0.0000, 0.0200, 0.0400, 0.0600, 0.0800, 0.1000, 0.1200, 0.1400, 0.1600,\n",
      "        0.1800, 0.2000, 0.2200, 0.2400, 0.2600, 0.2800, 0.3000, 0.3200, 0.3400,\n",
      "        0.3600, 0.3800, 0.4000, 0.4200, 0.4400, 0.4600, 0.4800, 0.5000, 0.5200,\n",
      "        0.5400, 0.5600, 0.5800, 0.6000, 0.6200, 0.6400, 0.6600, 0.6800, 0.7000,\n",
      "        0.7200, 0.7400, 0.7600, 0.7800, 0.8000, 0.8200, 0.8400, 0.8600, 0.8800,\n",
      "        0.9000, 0.9200, 0.9400, 0.9600, 0.9800, 1.0000])\n"
     ]
    }
   ],
   "source": [
    "# Get into evaluation (predictive posterior) mode\n",
    "model.eval()\n",
    "likelihood.eval()\n",
    "\n",
    "# Test points are regularly spaced along [0,1]\n",
    "# Make predictions by feeding model through likelihood\n",
    "with torch.no_grad(), gpytorch.settings.fast_pred_var():\n",
    "    test_x = torch.linspace(0, 1, 51)\n",
    "    #print(test_x)\n",
    "    observed_pred = likelihood(model(test_x))"
   ]
  },
  {
   "cell_type": "code",
   "execution_count": 10,
   "metadata": {},
   "outputs": [
    {
     "name": "stderr",
     "output_type": "stream",
     "text": [
      "/Users/adammoszczynski/miniforge3/envs/env_tf/lib/python3.9/site-packages/linear_operator/utils/cholesky.py:40: NumericalWarning: A not p.d., added jitter of 1.0e-06 to the diagonal\n",
      "  warnings.warn(\n",
      "/Users/adammoszczynski/miniforge3/envs/env_tf/lib/python3.9/site-packages/linear_operator/utils/cholesky.py:40: NumericalWarning: A not p.d., added jitter of 1.0e-05 to the diagonal\n",
      "  warnings.warn(\n"
     ]
    }
   ],
   "source": [
    "# also  an do this:\n",
    "f_preds = model(test_x)\n",
    "y_preds = likelihood(model(test_x))\n",
    "\n",
    "f_mean = f_preds.mean\n",
    "f_var = f_preds.variance\n",
    "f_covar = f_preds.covariance_matrix\n",
    "f_samples = f_preds.sample(sample_shape=torch.Size((1000,)))"
   ]
  },
  {
   "cell_type": "code",
   "execution_count": 10,
   "metadata": {},
   "outputs": [
    {
     "data": {
      "image/png": "[encoded data removed]",
      "text/plain": [
       "<Figure size 600x400 with 1 Axes>"
      ]
     },
     "metadata": {},
     "output_type": "display_data"
    }
   ],
   "source": [
    "with torch.no_grad():\n",
    "    # Initialize plot\n",
    "    f, ax = plt.subplots(1, 1, figsize=(6, 4))\n",
    "\n",
    "    # Get upper and lower confidence bounds\n",
    "    lower, upper = observed_pred.confidence_region()\n",
    "    # Plot training data as black stars\n",
    "    ax.plot(train_x.numpy(), train_y.numpy(), 'k*')\n",
    "    # Plot predictive means as blue line\n",
    "    ax.plot(test_x.numpy(), observed_pred.mean.numpy(), 'b')\n",
    "    # Shade between the lower and upper confidence bounds\n",
    "    ax.fill_between(test_x.numpy(), lower.numpy(), upper.numpy(), alpha=0.5)\n",
    "    ax.set_ylim([-3, 3])\n",
    "    ax.legend(['Observed Data', 'Mean', 'Confidence'])"
   ]
  }
 ],
 "metadata": {
  "kernelspec": {
   "display_name": "env_tf",
   "language": "python",
   "name": "python3"
  },
  "language_info": {
   "codemirror_mode": {
    "name": "ipython",
    "version": 3
   },
   "file_extension": ".py",
   "mimetype": "text/x-python",
   "name": "python",
   "nbconvert_exporter": "python",
   "pygments_lexer": "ipython3",
   "version": "3.9.18"
  },
  "orig_nbformat": 4
 },
 "nbformat": 4,
 "nbformat_minor": 2
}
