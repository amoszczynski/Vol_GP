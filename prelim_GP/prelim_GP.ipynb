{
 "cells": [
  {
   "cell_type": "code",
   "execution_count": 96,
   "metadata": {},
   "outputs": [],
   "source": [
    "from tqdm import tqdm\n",
    "import math\n",
    "import os\n",
    "import numpy as np\n",
    "import pandas as pd\n",
    "import torch\n",
    "import gpytorch\n",
    "import matplotlib.pyplot as plt"
   ]
  },
  {
   "cell_type": "markdown",
   "metadata": {},
   "source": [
    "#### Starting with just call data"
   ]
  },
  {
   "cell_type": "code",
   "execution_count": 155,
   "metadata": {},
   "outputs": [],
   "source": [
    "calls = pd.read_csv(\"SPY_calls.csv\")\n",
    "calls['T'] = calls['T'].astype(np.float32)\n",
    "calls['mny'] = calls['moneyness'].astype(np.float32)\n",
    "calls['iv'] = calls['implied_volatility'].astype(np.float32)\n",
    "\n",
    "calls['st_T'] = (calls['T'] - calls['T'].mean())/calls['T'].std()\n",
    "calls['st_mny'] = (calls['mny'] - calls['mny'].mean())/calls['mny'].std()\n",
    "calls['st_iv'] = (calls['iv'] - calls['iv'].mean())/calls['iv'].std()"
   ]
  },
  {
   "cell_type": "code",
   "execution_count": 156,
   "metadata": {},
   "outputs": [
    {
     "name": "stdout",
     "output_type": "stream",
     "text": [
      "tensor([[-0.7641, -2.8482],\n",
      "        [-0.7641, -1.7896],\n",
      "        [-0.7641, -1.4838],\n",
      "        [-0.7641, -1.4367],\n",
      "        [-0.7641, -1.3191]])\n",
      "tensor([[10.4099],\n",
      "        [ 3.1303],\n",
      "        [ 1.8818],\n",
      "        [ 1.7439],\n",
      "        [ 1.7629]])\n"
     ]
    }
   ],
   "source": [
    "x = torch.tensor(calls[['st_T', 'st_mny']].values)\n",
    "y = torch.tensor(calls[['st_iv']].values)\n",
    "print(x[:5])\n",
    "print(y[:5])"
   ]
  },
  {
   "cell_type": "code",
   "execution_count": 157,
   "metadata": {},
   "outputs": [],
   "source": [
    "from sklearn.model_selection import train_test_split\n",
    "\n",
    "train_x, test_x, train_y, test_y = train_test_split(x, y, test_size=0.2)"
   ]
  },
  {
   "cell_type": "code",
   "execution_count": 158,
   "metadata": {},
   "outputs": [],
   "source": [
    "train_y = train_y.reshape((len(train_y)))\n",
    "test_y = test_y.reshape((len(test_y)))"
   ]
  },
  {
   "cell_type": "markdown",
   "metadata": {},
   "source": [
    "####  GP Regression"
   ]
  },
  {
   "cell_type": "code",
   "execution_count": 179,
   "metadata": {},
   "outputs": [],
   "source": [
    "# We will use the simplest form of GP model, exact inference\n",
    "class ExactGPModel(gpytorch.models.ExactGP):\n",
    "    def __init__(self, train_x, train_y, likelihood):\n",
    "        super(ExactGPModel, self).__init__(train_x, train_y, likelihood)\n",
    "        self.mean_module = gpytorch.means.ConstantMean()\n",
    "        self.covar_module = gpytorch.kernels.ScaleKernel(gpytorch.kernels.RBFKernel())\n",
    "\n",
    "    def forward(self, x):\n",
    "        mean_x = self.mean_module(x)\n",
    "        covar_x = self.covar_module(x)\n",
    "        return gpytorch.distributions.MultivariateNormal(mean_x, covar_x)\n",
    "\n",
    "# initialize likelihood and model\n",
    "likelihood = gpytorch.likelihoods.GaussianLikelihood()\n",
    "model = ExactGPModel(train_x, train_y, likelihood)"
   ]
  },
  {
   "cell_type": "code",
   "execution_count": 180,
   "metadata": {},
   "outputs": [
    {
     "name": "stdout",
     "output_type": "stream",
     "text": [
      "Iter 1/50 - Loss: 0.809   lengthscale: 0.693   noise: 0.693\n",
      "Iter 2/50 - Loss: 0.793   lengthscale: 0.668   noise: 0.669\n",
      "Iter 3/50 - Loss: 0.775   lengthscale: 0.644   noise: 0.644\n",
      "Iter 4/50 - Loss: 0.758   lengthscale: 0.621   noise: 0.621\n",
      "Iter 5/50 - Loss: 0.741   lengthscale: 0.598   noise: 0.598\n",
      "Iter 6/50 - Loss: 0.725   lengthscale: 0.576   noise: 0.576\n",
      "Iter 7/50 - Loss: 0.707   lengthscale: 0.554   noise: 0.554\n",
      "Iter 8/50 - Loss: 0.689   lengthscale: 0.533   noise: 0.533\n",
      "Iter 9/50 - Loss: 0.670   lengthscale: 0.512   noise: 0.513\n",
      "Iter 10/50 - Loss: 0.650   lengthscale: 0.492   noise: 0.493\n",
      "Iter 11/50 - Loss: 0.635   lengthscale: 0.472   noise: 0.474\n",
      "Iter 12/50 - Loss: 0.612   lengthscale: 0.453   noise: 0.455\n",
      "Iter 13/50 - Loss: 0.591   lengthscale: 0.434   noise: 0.437\n",
      "Iter 14/50 - Loss: 0.571   lengthscale: 0.416   noise: 0.419\n",
      "Iter 15/50 - Loss: 0.550   lengthscale: 0.398   noise: 0.402\n",
      "Iter 16/50 - Loss: 0.529   lengthscale: 0.380   noise: 0.385\n",
      "Iter 17/50 - Loss: 0.510   lengthscale: 0.364   noise: 0.369\n",
      "Iter 18/50 - Loss: 0.491   lengthscale: 0.348   noise: 0.354\n",
      "Iter 19/50 - Loss: 0.476   lengthscale: 0.333   noise: 0.339\n",
      "Iter 20/50 - Loss: 0.451   lengthscale: 0.318   noise: 0.324\n",
      "Iter 21/50 - Loss: 0.437   lengthscale: 0.305   noise: 0.310\n",
      "Iter 22/50 - Loss: 0.423   lengthscale: 0.293   noise: 0.296\n",
      "Iter 23/50 - Loss: 0.417   lengthscale: 0.281   noise: 0.283\n",
      "Iter 24/50 - Loss: 0.400   lengthscale: 0.270   noise: 0.271\n",
      "Iter 25/50 - Loss: 0.382   lengthscale: 0.260   noise: 0.259\n",
      "Iter 26/50 - Loss: 0.363   lengthscale: 0.250   noise: 0.247\n",
      "Iter 27/50 - Loss: 0.358   lengthscale: 0.242   noise: 0.236\n",
      "Iter 28/50 - Loss: 0.321   lengthscale: 0.234   noise: 0.225\n",
      "Iter 29/50 - Loss: 0.313   lengthscale: 0.227   noise: 0.215\n",
      "Iter 30/50 - Loss: 0.300   lengthscale: 0.222   noise: 0.205\n",
      "Iter 31/50 - Loss: 0.295   lengthscale: 0.218   noise: 0.196\n",
      "Iter 32/50 - Loss: 0.302   lengthscale: 0.213   noise: 0.187\n",
      "Iter 33/50 - Loss: 0.295   lengthscale: 0.209   noise: 0.178\n",
      "Iter 34/50 - Loss: 0.284   lengthscale: 0.205   noise: 0.170\n",
      "Iter 35/50 - Loss: 0.264   lengthscale: 0.201   noise: 0.162\n",
      "Iter 36/50 - Loss: 0.259   lengthscale: 0.197   noise: 0.155\n",
      "Iter 37/50 - Loss: 0.249   lengthscale: 0.194   noise: 0.148\n",
      "Iter 38/50 - Loss: 0.242   lengthscale: 0.189   noise: 0.141\n",
      "Iter 39/50 - Loss: 0.245   lengthscale: 0.185   noise: 0.135\n",
      "Iter 40/50 - Loss: 0.223   lengthscale: 0.181   noise: 0.129\n",
      "Iter 41/50 - Loss: 0.238   lengthscale: 0.176   noise: 0.123\n",
      "Iter 42/50 - Loss: 0.233   lengthscale: 0.170   noise: 0.118\n",
      "Iter 43/50 - Loss: 0.215   lengthscale: 0.165   noise: 0.113\n",
      "Iter 44/50 - Loss: 0.218   lengthscale: 0.159   noise: 0.108\n",
      "Iter 45/50 - Loss: 0.215   lengthscale: 0.152   noise: 0.103\n",
      "Iter 46/50 - Loss: 0.224   lengthscale: 0.146   noise: 0.099\n",
      "Iter 47/50 - Loss: 0.241   lengthscale: 0.139   noise: 0.095\n",
      "Iter 48/50 - Loss: 0.260   lengthscale: 0.133   noise: 0.091\n",
      "Iter 49/50 - Loss: 0.244   lengthscale: 0.127   noise: 0.087\n",
      "Iter 50/50 - Loss: 0.270   lengthscale: 0.121   noise: 0.084\n"
     ]
    }
   ],
   "source": [
    "# this is for running the notebook in our testing framewor\n",
    "# Find optimal model hyperparameters\n",
    "model.train()\n",
    "likelihood.train()\n",
    "\n",
    "# Use the adam optimizer\n",
    "optimizer = torch.optim.Adam(model.parameters(), lr=0.05)  # Includes GaussianLikelihood parameters\n",
    "\n",
    "# \"Loss\" for GPs - the marginal log likelihood\n",
    "mll = gpytorch.mlls.ExactMarginalLogLikelihood(likelihood, model)\n",
    "\n",
    "losses = []\n",
    "\n",
    "training_iter = 50\n",
    "for i in range(training_iter):\n",
    "    # Zero gradients from previous iteration\n",
    "    optimizer.zero_grad()\n",
    "    # Output from model\n",
    "    output = model(train_x)\n",
    "    # Calc loss and backprop gradients\n",
    "    loss = -mll(output, train_y)\n",
    "    #print(len(loss))\n",
    "    loss.backward()\n",
    "    print('Iter %d/%d - Loss: %.3f   lengthscale: %.3f   noise: %.3f' % (\n",
    "        i + 1, training_iter, loss.item(),\n",
    "        model.covar_module.base_kernel.lengthscale.item(),\n",
    "        model.likelihood.noise.item()\n",
    "    ))\n",
    "    losses.append(loss.item())\n",
    "    optimizer.step()"
   ]
  },
  {
   "cell_type": "code",
   "execution_count": 181,
   "metadata": {},
   "outputs": [
    {
     "data": {
      "image/png": "[encoded data removed]",
      "text/plain": [
       "<Figure size 640x480 with 1 Axes>"
      ]
     },
     "metadata": {},
     "output_type": "display_data"
    }
   ],
   "source": [
    "plt.plot(range(len(losses)), losses)\n",
    "plt.show()"
   ]
  },
  {
   "cell_type": "code",
   "execution_count": 182,
   "metadata": {},
   "outputs": [
    {
     "data": {
      "text/plain": [
       "tensor(0.2583)"
      ]
     },
     "execution_count": 182,
     "metadata": {},
     "output_type": "execute_result"
    }
   ],
   "source": [
    "# Get into evaluation (predictive posterior) mode\n",
    "model.eval()\n",
    "likelihood.eval()\n",
    "\n",
    "# Make predictions by feeding model through likelihood\n",
    "with torch.no_grad(), gpytorch.settings.fast_pred_var():\n",
    "    observed_pred = likelihood(model(test_x))\n",
    "    \n",
    "torch.sqrt(torch.mean(torch.pow(observed_pred.mean - test_y, 2)))"
   ]
  },
  {
   "cell_type": "markdown",
   "metadata": {},
   "source": [
    "#### Testing full moneyness spectrum on custom time to expriation"
   ]
  },
  {
   "cell_type": "code",
   "execution_count": 186,
   "metadata": {},
   "outputs": [
    {
     "name": "stdout",
     "output_type": "stream",
     "text": [
      "tensor([[ 0.0000, -1.0000],\n",
      "        [ 0.0000, -0.9798],\n",
      "        [ 0.0000, -0.9596],\n",
      "        [ 0.0000, -0.9394],\n",
      "        [ 0.0000, -0.9192]])\n"
     ]
    }
   ],
   "source": [
    "mny = np.array(np.linspace(-1, 1, 100)).astype(np.float32)\n",
    "t = np.array([0]*100).astype(np.float32)\n",
    "#mny = \n",
    "\n",
    "sample = torch.tensor([t, mny]).T#.reshape((1000, 2))\n",
    "print(sample[:5])"
   ]
  },
  {
   "cell_type": "code",
   "execution_count": 187,
   "metadata": {},
   "outputs": [],
   "source": [
    "# Get into evaluation (predictive posterior) mode\n",
    "model.eval()\n",
    "likelihood.eval()\n",
    "\n",
    "# Make predictions by feeding model through likelihood\n",
    "with torch.no_grad(), gpytorch.settings.fast_pred_var():\n",
    "    observed_pred = likelihood(model(sample))"
   ]
  },
  {
   "cell_type": "code",
   "execution_count": 188,
   "metadata": {},
   "outputs": [
    {
     "data": {
      "image/png": "[encoded data removed]",
      "text/plain": [
       "<Figure size 400x300 with 1 Axes>"
      ]
     },
     "metadata": {},
     "output_type": "display_data"
    }
   ],
   "source": [
    "with torch.no_grad():\n",
    "    # Initialize plot\n",
    "    f, ax = plt.subplots(1, 1, figsize=(4, 3))\n",
    "\n",
    "    # Get upper and lower confidence bounds\n",
    "    lower, upper = observed_pred.confidence_region()\n",
    "    # Plot training data as black stars\n",
    "    #ax.plot(train_x[:, 1].numpy(), train_y.numpy(), 'k*')\n",
    "    # Plot predictive means as blue line\n",
    "    \n",
    "    # undo scaling\n",
    "    lower = lower.numpy() * calls['iv'].std() + calls['iv'].mean()\n",
    "    upper = upper.numpy() * calls['iv'].std() + calls['iv'].mean()\n",
    "    preds = observed_pred.mean.numpy() * calls['iv'].std() + calls['iv'].mean()\n",
    "    \n",
    "    \n",
    "    \n",
    "    #ax.plot(mny, observed_pred.mean.numpy(), 'b')\n",
    "    ax.plot(mny, preds, 'b')\n",
    "    # Shade between the lower and upper confidence bounds\n",
    "    #ax.fill_between(mny, lower.numpy(), upper.numpy(), alpha=0.5)\n",
    "    ax.fill_between(mny, lower, upper, alpha=0.5)\n",
    "    #ax.set_ylim([-3, 3])\n",
    "    #ax.legend(['Observed Data', 'Mean', 'Confidence'])"
   ]
  }
 ],
 "metadata": {
  "kernelspec": {
   "display_name": "vol2",
   "language": "python",
   "name": "python3"
  },
  "language_info": {
   "codemirror_mode": {
    "name": "ipython",
    "version": 3
   },
   "file_extension": ".py",
   "mimetype": "text/x-python",
   "name": "python",
   "nbconvert_exporter": "python",
   "pygments_lexer": "ipython3",
   "version": "3.10.13"
  },
  "orig_nbformat": 4
 },
 "nbformat": 4,
 "nbformat_minor": 2
}
