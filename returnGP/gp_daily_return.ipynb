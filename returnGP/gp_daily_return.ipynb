{
 "cells": [
  {
   "cell_type": "code",
   "execution_count": 2,
   "metadata": {},
   "outputs": [
    {
     "name": "stdout",
     "output_type": "stream",
     "text": [
      "The autoreload extension is already loaded. To reload it, use:\n",
      "  %reload_ext autoreload\n"
     ]
    }
   ],
   "source": [
    "import math\n",
    "import torch\n",
    "import gpytorch\n",
    "import pandas as pd\n",
    "from matplotlib import pyplot as plt\n",
    "\n",
    "%matplotlib inline\n",
    "%load_ext autoreload\n",
    "%autoreload 2"
   ]
  },
  {
   "cell_type": "code",
   "execution_count": 119,
   "metadata": {},
   "outputs": [],
   "source": [
    "import requests\n",
    "\n",
    "# alphavantage\n",
    "apikey = \"8AXHO0L0AM7BQJQ5\"\n",
    "\n",
    "url = f'https://www.alphavantage.co/query?function=TIME_SERIES_INTRADAY&symbol=SPY&extended_hours=false&interval=1min&outputsize=full&apikey={apikey}'\n",
    "r = requests.get(url)\n",
    "data = r.json()"
   ]
  },
  {
   "cell_type": "code",
   "execution_count": 120,
   "metadata": {},
   "outputs": [],
   "source": [
    "ts = data['Time Series (1min)']\n",
    "rows = [[k, v['1. open'], v['4. close'], v['5. volume']] for k,v in ts.items()]\n",
    "spy = pd.DataFrame(rows, columns=['timestamp', 'open', 'close', 'volume'])[::-1]\n",
    "spy.index = spy['timestamp']\n",
    "spy.drop(['timestamp'], axis=1, inplace=True)\n",
    "spy.index = pd.to_datetime(spy.index)\n",
    "spy = spy.astype({'open':'float', 'close':'float', 'volume':'float'})"
   ]
  },
  {
   "cell_type": "code",
   "execution_count": 121,
   "metadata": {},
   "outputs": [],
   "source": [
    "# make sure full day exists\n",
    "def complete_info(group):\n",
    "    open = pd.Timestamp(\"9:30:00\").time()\n",
    "    close = pd.Timestamp(\"15:59:00\").time()\n",
    "    times = group.index.time\n",
    "    return open in times and close in times\n",
    "\n",
    "grouped = spy.groupby(spy.index.date)\n",
    "df = grouped.filter(complete_info)"
   ]
  },
  {
   "cell_type": "code",
   "execution_count": null,
   "metadata": {},
   "outputs": [],
   "source": []
  },
  {
   "cell_type": "code",
   "execution_count": 223,
   "metadata": {},
   "outputs": [],
   "source": [
    "from datetime import datetime, time, timedelta\n",
    "\n",
    "def return_0_t(x):\n",
    "    op = x.iloc[0]['open']\n",
    "    return (x['close'] - op) / op\n",
    "\n",
    "def return_t_T(x):\n",
    "    cp = x.iloc[-1]['close']\n",
    "    return (cp - x['open']) / x['open']\n",
    "\n",
    "def t_td(t):\n",
    "    return timedelta(hours=t.hour, minutes=t.minute, seconds=t.second)\n",
    "\n",
    "def day_frac(x):\n",
    "    market_open = pd.Timestamp(\"9:30:00\").time()\n",
    "    market_close = pd.Timestamp(\"15:59:00\").time()\n",
    "    return (t_td(x) - t_td(market_open)) / (t_td(market_close) - t_td(market_open))\n",
    "\n",
    "df['r0_t'] = df.groupby(df.index.date).apply(return_0_t).tolist()\n",
    "df['rt_T'] = df.groupby(df.index.date).apply(return_t_T).tolist()\n",
    "df['dfrac'] = df.index.to_series().apply(day_frac)\n",
    "df['avg_vol'] = df.groupby(df.index.date)['volume'].cumsum() / (\n",
    "    df.groupby(df.index.date).cumcount() + 1)\n",
    "\n",
    "df['avg_vol'] = (df['avg_vol'] - df['avg_vol'].mean()) / df['avg_vol'].std()\n"
   ]
  },
  {
   "cell_type": "code",
   "execution_count": 230,
   "metadata": {},
   "outputs": [],
   "source": [
    "x = torch.tensor(df[['r0_t', 'dfrac', 'avg_vol']].values)\n",
    "y = torch.tensor(df[['rt_T']].values)"
   ]
  },
  {
   "cell_type": "code",
   "execution_count": 297,
   "metadata": {},
   "outputs": [
    {
     "name": "stdout",
     "output_type": "stream",
     "text": [
      "torch.Size([3120, 3]) torch.Size([3120])\n"
     ]
    }
   ],
   "source": [
    "train_x = x[::2]\n",
    "train_y = y[::2].reshape((len(y[::2])))\n",
    "\n",
    "print(train_x.shape, train_y.shape)"
   ]
  },
  {
   "cell_type": "code",
   "execution_count": 298,
   "metadata": {},
   "outputs": [],
   "source": [
    "# We will use the simplest form of GP model, exact inference\n",
    "class ExactGPModel(gpytorch.models.ExactGP):\n",
    "    def __init__(self, train_x, train_y, likelihood):\n",
    "        super(ExactGPModel, self).__init__(train_x, train_y, likelihood)\n",
    "        self.mean_module = gpytorch.means.ConstantMean()\n",
    "        self.covar_module = gpytorch.kernels.ScaleKernel(gpytorch.kernels.RBFKernel())\n",
    "\n",
    "    def forward(self, x):\n",
    "        mean_x = self.mean_module(x)\n",
    "        covar_x = self.covar_module(x)\n",
    "        return gpytorch.distributions.MultivariateNormal(mean_x, covar_x)\n",
    "\n",
    "# initialize likelihood and model\n",
    "likelihood = gpytorch.likelihoods.GaussianLikelihood()\n",
    "model = ExactGPModel(train_x, train_y, likelihood)"
   ]
  },
  {
   "cell_type": "code",
   "execution_count": 299,
   "metadata": {},
   "outputs": [
    {
     "name": "stdout",
     "output_type": "stream",
     "text": [
      "Iter 1/50 - Loss: 0.748   lengthscale: 0.693   noise: 0.693\n",
      "Iter 2/50 - Loss: 0.711   lengthscale: 0.744   noise: 0.644\n",
      "Iter 3/50 - Loss: 0.672   lengthscale: 0.797   noise: 0.598\n",
      "Iter 4/50 - Loss: 0.634   lengthscale: 0.851   noise: 0.554\n",
      "Iter 5/50 - Loss: 0.594   lengthscale: 0.907   noise: 0.513\n",
      "Iter 6/50 - Loss: 0.554   lengthscale: 0.963   noise: 0.474\n",
      "Iter 7/50 - Loss: 0.513   lengthscale: 1.019   noise: 0.437\n",
      "Iter 8/50 - Loss: 0.472   lengthscale: 1.077   noise: 0.403\n",
      "Iter 9/50 - Loss: 0.430   lengthscale: 1.136   noise: 0.370\n",
      "Iter 10/50 - Loss: 0.387   lengthscale: 1.196   noise: 0.340\n",
      "Iter 11/50 - Loss: 0.344   lengthscale: 1.256   noise: 0.312\n",
      "Iter 12/50 - Loss: 0.299   lengthscale: 1.317   noise: 0.286\n",
      "Iter 13/50 - Loss: 0.255   lengthscale: 1.377   noise: 0.261\n",
      "Iter 14/50 - Loss: 0.209   lengthscale: 1.436   noise: 0.239\n",
      "Iter 15/50 - Loss: 0.163   lengthscale: 1.496   noise: 0.218\n",
      "Iter 16/50 - Loss: 0.117   lengthscale: 1.555   noise: 0.199\n",
      "Iter 17/50 - Loss: 0.070   lengthscale: 1.613   noise: 0.181\n",
      "Iter 18/50 - Loss: 0.022   lengthscale: 1.671   noise: 0.164\n",
      "Iter 19/50 - Loss: -0.026   lengthscale: 1.728   noise: 0.149\n",
      "Iter 20/50 - Loss: -0.074   lengthscale: 1.784   noise: 0.136\n",
      "Iter 21/50 - Loss: -0.123   lengthscale: 1.839   noise: 0.123\n",
      "Iter 22/50 - Loss: -0.172   lengthscale: 1.894   noise: 0.112\n",
      "Iter 23/50 - Loss: -0.221   lengthscale: 1.947   noise: 0.101\n",
      "Iter 24/50 - Loss: -0.271   lengthscale: 1.999   noise: 0.091\n",
      "Iter 25/50 - Loss: -0.322   lengthscale: 2.050   noise: 0.083\n",
      "Iter 26/50 - Loss: -0.372   lengthscale: 2.101   noise: 0.075\n",
      "Iter 27/50 - Loss: -0.423   lengthscale: 2.150   noise: 0.068\n",
      "Iter 28/50 - Loss: -0.474   lengthscale: 2.199   noise: 0.061\n",
      "Iter 29/50 - Loss: -0.525   lengthscale: 2.246   noise: 0.055\n",
      "Iter 30/50 - Loss: -0.576   lengthscale: 2.293   noise: 0.050\n",
      "Iter 31/50 - Loss: -0.628   lengthscale: 2.339   noise: 0.045\n",
      "Iter 32/50 - Loss: -0.679   lengthscale: 2.384   noise: 0.040\n",
      "Iter 33/50 - Loss: -0.731   lengthscale: 2.428   noise: 0.037\n",
      "Iter 34/50 - Loss: -0.783   lengthscale: 2.472   noise: 0.033\n",
      "Iter 35/50 - Loss: -0.835   lengthscale: 2.515   noise: 0.030\n",
      "Iter 36/50 - Loss: -0.887   lengthscale: 2.557   noise: 0.027\n",
      "Iter 37/50 - Loss: -0.939   lengthscale: 2.598   noise: 0.024\n",
      "Iter 38/50 - Loss: -0.991   lengthscale: 2.639   noise: 0.022\n",
      "Iter 39/50 - Loss: -1.044   lengthscale: 2.679   noise: 0.020\n",
      "Iter 40/50 - Loss: -1.096   lengthscale: 2.719   noise: 0.018\n",
      "Iter 41/50 - Loss: -1.148   lengthscale: 2.758   noise: 0.016\n",
      "Iter 42/50 - Loss: -1.200   lengthscale: 2.797   noise: 0.014\n",
      "Iter 43/50 - Loss: -1.253   lengthscale: 2.835   noise: 0.013\n",
      "Iter 44/50 - Loss: -1.305   lengthscale: 2.872   noise: 0.012\n",
      "Iter 45/50 - Loss: -1.357   lengthscale: 2.909   noise: 0.010\n",
      "Iter 46/50 - Loss: -1.409   lengthscale: 2.946   noise: 0.009\n",
      "Iter 47/50 - Loss: -1.461   lengthscale: 2.982   noise: 0.008\n",
      "Iter 48/50 - Loss: -1.513   lengthscale: 3.018   noise: 0.008\n",
      "Iter 49/50 - Loss: -1.565   lengthscale: 3.054   noise: 0.007\n",
      "Iter 50/50 - Loss: -1.617   lengthscale: 3.089   noise: 0.006\n"
     ]
    }
   ],
   "source": [
    "# this is for running the notebook in our testing framework\n",
    "import os\n",
    "smoke_test = ('CI' in os.environ)\n",
    "training_iter = 2 if smoke_test else 50\n",
    "\n",
    "# Find optimal model hyperparameters\n",
    "model.train()\n",
    "likelihood.train()\n",
    "\n",
    "# Use the adam optimizer\n",
    "optimizer = torch.optim.Adam(model.parameters(), lr=0.1)  # Includes GaussianLikelihood parameters\n",
    "\n",
    "# \"Loss\" for GPs - the marginal log likelihood\n",
    "mll = gpytorch.mlls.ExactMarginalLogLikelihood(likelihood, model)\n",
    "\n",
    "for i in range(training_iter):\n",
    "    # Zero gradients from previous iteration\n",
    "    optimizer.zero_grad()\n",
    "    # Output from model\n",
    "    output = model(train_x)\n",
    "    # Calc loss and backprop gradients\n",
    "    loss = -mll(output, train_y)\n",
    "    #print(len(loss))\n",
    "    loss.backward()\n",
    "    print('Iter %d/%d - Loss: %.3f   lengthscale: %.3f   noise: %.3f' % (\n",
    "        i + 1, training_iter, loss.item(),\n",
    "        model.covar_module.base_kernel.lengthscale.item(),\n",
    "        model.likelihood.noise.item()\n",
    "    ))\n",
    "    optimizer.step()"
   ]
  },
  {
   "cell_type": "code",
   "execution_count": 329,
   "metadata": {},
   "outputs": [],
   "source": [
    "# Get into evaluation (predictive posterior) mode\n",
    "model.eval()\n",
    "likelihood.eval()\n",
    "\n",
    "# Test points are regularly spaced along [0,1]\n",
    "# Make predictions by feeding model through likelihood\n",
    "with torch.no_grad():#, gpytorch.settings.fast_pred_var():\n",
    "    test_r = torch.linspace(-1, 1, 100)\n",
    "    test_f = torch.linspace(0, 1, 100)\n",
    "    test_v = torch.linspace(-3, 3, 100)\n",
    "    test_x = torch.stack((test_r, test_f, test_v), -1)\n",
    "    \n",
    "    observed_pred = likelihood(model(test_x))\n",
    "    t = likelihood(model(torch.tensor([[-0.1, 0.99, 0]])))"
   ]
  },
  {
   "cell_type": "code",
   "execution_count": 330,
   "metadata": {},
   "outputs": [
    {
     "data": {
      "text/plain": [
       "(tensor([-0.1515], dtype=torch.float64), tensor([0.1482], dtype=torch.float64))"
      ]
     },
     "execution_count": 330,
     "metadata": {},
     "output_type": "execute_result"
    }
   ],
   "source": [
    "t.confidence_region()"
   ]
  },
  {
   "cell_type": "code",
   "execution_count": 309,
   "metadata": {},
   "outputs": [
    {
     "data": {
      "text/plain": [
       "(tensor([-0.1688, -0.1676, -0.1664, -0.1652, -0.1642, -0.1631, -0.1621, -0.1612,\n",
       "         -0.1603, -0.1594, -0.1586, -0.1579, -0.1572, -0.1565, -0.1559, -0.1553,\n",
       "         -0.1547, -0.1542, -0.1538, -0.1533, -0.1529, -0.1526, -0.1523, -0.1520,\n",
       "         -0.1517, -0.1515, -0.1512, -0.1511, -0.1509, -0.1508, -0.1507, -0.1506,\n",
       "         -0.1505, -0.1504, -0.1504, -0.1504, -0.1504, -0.1504, -0.1505, -0.1505,\n",
       "         -0.1506, -0.1506, -0.1507, -0.1508, -0.1510, -0.1511, -0.1512, -0.1514,\n",
       "         -0.1515, -0.1517, -0.1519, -0.1521, -0.1523, -0.1525, -0.1527, -0.1530,\n",
       "         -0.1532, -0.1535, -0.1538, -0.1540, -0.1543, -0.1546, -0.1550, -0.1553,\n",
       "         -0.1556, -0.1560, -0.1564, -0.1568, -0.1572, -0.1576, -0.1580, -0.1584,\n",
       "         -0.1589, -0.1594, -0.1598, -0.1603, -0.1609, -0.1614, -0.1619, -0.1625,\n",
       "         -0.1631, -0.1637, -0.1643, -0.1649, -0.1656, -0.1662, -0.1669, -0.1676,\n",
       "         -0.1683, -0.1691, -0.1698, -0.1706, -0.1714, -0.1721, -0.1730, -0.1738,\n",
       "         -0.1746, -0.1755, -0.1763, -0.1772], dtype=torch.float64),\n",
       " tensor([0.1817, 0.1803, 0.1790, 0.1777, 0.1764, 0.1752, 0.1740, 0.1729, 0.1717,\n",
       "         0.1706, 0.1696, 0.1685, 0.1675, 0.1666, 0.1656, 0.1647, 0.1639, 0.1630,\n",
       "         0.1622, 0.1614, 0.1606, 0.1599, 0.1592, 0.1585, 0.1578, 0.1572, 0.1565,\n",
       "         0.1559, 0.1554, 0.1548, 0.1543, 0.1537, 0.1532, 0.1528, 0.1523, 0.1518,\n",
       "         0.1514, 0.1510, 0.1506, 0.1502, 0.1499, 0.1495, 0.1492, 0.1489, 0.1486,\n",
       "         0.1483, 0.1481, 0.1479, 0.1476, 0.1474, 0.1473, 0.1471, 0.1470, 0.1468,\n",
       "         0.1467, 0.1466, 0.1466, 0.1465, 0.1465, 0.1465, 0.1465, 0.1466, 0.1466,\n",
       "         0.1467, 0.1468, 0.1469, 0.1471, 0.1473, 0.1475, 0.1477, 0.1479, 0.1482,\n",
       "         0.1484, 0.1488, 0.1491, 0.1494, 0.1498, 0.1502, 0.1506, 0.1511, 0.1515,\n",
       "         0.1520, 0.1525, 0.1530, 0.1536, 0.1542, 0.1548, 0.1554, 0.1560, 0.1567,\n",
       "         0.1573, 0.1580, 0.1588, 0.1595, 0.1602, 0.1610, 0.1618, 0.1626, 0.1634,\n",
       "         0.1642], dtype=torch.float64))"
      ]
     },
     "execution_count": 309,
     "metadata": {},
     "output_type": "execute_result"
    }
   ],
   "source": [
    "observed_pred.confidence_region()"
   ]
  },
  {
   "cell_type": "code",
   "execution_count": 321,
   "metadata": {},
   "outputs": [
    {
     "data": {
      "image/png": "[encoded data removed]",
      "text/plain": [
       "<Figure size 600x400 with 1 Axes>"
      ]
     },
     "metadata": {},
     "output_type": "display_data"
    }
   ],
   "source": [
    "test_x = torch.linspace(0, 1, 100)\n",
    "\n",
    "with torch.no_grad():\n",
    "    # Initialize plot\n",
    "    f, ax = plt.subplots(1, 1, figsize=(6, 4))\n",
    "\n",
    "    # Get upper and lower confidence bounds\n",
    "    lower, upper = observed_pred.confidence_region()\n",
    "    ax.plot(test_r.numpy(), observed_pred.mean.numpy())\n",
    "\n",
    "\n",
    "\n",
    "    # Plot training data as black stars\n",
    "    #ax.plot(train_x.numpy(), train_y.numpy(), 'k*')\n",
    "    # Plot predictive means as blue line\n",
    "    #ax.plot(test_x.numpy(), observed_pred.mean.numpy(), 'b')\n",
    "    # Shade between the lower and upper confidence bounds\n",
    "    #ax.fill_between(test_r.numpy(), lower.numpy(), upper.numpy(), alpha=0.5)\n",
    "    #ax.set_ylim([-3, 3])\n",
    "    #ax.legend(['Observed Data', 'Mean', 'Confidence'])\n"
   ]
  }
 ],
 "metadata": {
  "kernelspec": {
   "display_name": "env_tf",
   "language": "python",
   "name": "python3"
  },
  "language_info": {
   "codemirror_mode": {
    "name": "ipython",
    "version": 3
   },
   "file_extension": ".py",
   "mimetype": "text/x-python",
   "name": "python",
   "nbconvert_exporter": "python",
   "pygments_lexer": "ipython3",
   "version": "3.9.18"
  },
  "orig_nbformat": 4
 },
 "nbformat": 4,
 "nbformat_minor": 2
}
