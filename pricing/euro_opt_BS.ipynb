{
 "cells": [
  {
   "cell_type": "code",
   "execution_count": 4,
   "metadata": {},
   "outputs": [],
   "source": [
    "import numpy as np\n",
    "from scipy.stats import norm\n",
    "import pandas as pd\n",
    "import datetime\n",
    "import os"
   ]
  },
  {
   "cell_type": "markdown",
   "metadata": {},
   "source": [
    "$\\textbf{PDE:}$\n",
    "\n",
    "$$\\frac{\\partial V}{\\partial t}+r\\left( S \\frac{\\partial V}{\\partial S}-V\\right)+\\frac{1}{2}\\sigma^2S^2\\frac{\\partial^2 V}{\\partial S^2}=0$$\n",
    "\n",
    "$\\textbf{SOLUTION:}$\n",
    "\n",
    "<!-- $$ V(S, t) = e^{-r(T-t)}\\left[S_0 \\; \\text{N}(\\pm d_1) - K\\; \\text{N}(\\pm d_2)\\right]$$ -->\n",
    "\n",
    "$$C(S, t) = S_0N(d_1) - Ke^{-r(T-t)}N(d_2)$$\n",
    "\n",
    "$$P(S, t) = Ke^{-r(T-t)}N(-d_2) - S_0N(-d_1)$$\n",
    "\n",
    "$\\text{where}\\; d_1 \\; \\& \\; d_2 \\; \\text{are given by}$\n",
    "\n",
    "$$ d_1 = \\frac{\\ln\\left(\\frac{S}{K}\\right) + \\left(r + \\frac{\\sigma^2}{2}\\right)(T-t)}{\\sigma\\sqrt{T-t}} $$\n",
    "\n",
    "$\\text{and} $\n",
    "\n",
    "$$d_2 = d_1 - \\sigma\\sqrt{T-t}$$"
   ]
  },
  {
   "cell_type": "code",
   "execution_count": 5,
   "metadata": {},
   "outputs": [],
   "source": [
    "def european_option_price_BS(S0: float, r: float, sigma: float, T: float, K: float, opt_type: str) -> float:\n",
    "    \"\"\"\n",
    "    Calculates the price of a European option (call or put) using the Black-Scholes formula.\n",
    "    \n",
    "    Parameters:\n",
    "    - S0: float\n",
    "        The initial stock price.\n",
    "    - K: float\n",
    "        The strike price of the option.\n",
    "    - T: float\n",
    "        The time to expiration in years.\n",
    "    - r: float\n",
    "        The risk-free interest rate.\n",
    "    - sigma: float\n",
    "        The volatility of the stock.\n",
    "    - opt_type: str\n",
    "        The type of option, either \"call\" or \"put\".\n",
    "    \n",
    "    Returns:\n",
    "    - float\n",
    "        The price of the European option.\n",
    "    \n",
    "    Raises:\n",
    "    - ValueError\n",
    "        If any of the input parameters are invalid or if the option type is not recognized.\n",
    "    \"\"\"\n",
    "    \n",
    "    # Validating the input parameters\n",
    "    if S0 <= 0 or K <= 0 or T <= 0 or r < 0 or sigma <= 0:\n",
    "        raise ValueError(\"Input parameters should be positive and non-zero.\")\n",
    "    if opt_type not in [\"call\", \"put\"]:\n",
    "        raise ValueError(\"Option type must be either 'call' or 'put'.\")\n",
    "\n",
    "    # Calculating d1 and d2\n",
    "    d1 = (np.log(S0 / K) + (r + 0.5 * sigma**2) * T) / (sigma * np.sqrt(T))\n",
    "    d2 = d1 - sigma * np.sqrt(T)\n",
    "    \n",
    "    # Calculating the option price based on the type\n",
    "    if opt_type == \"call\":\n",
    "        option_price = S0 * norm.cdf(d1) - K * np.exp(-r * T) * norm.cdf(d2)\n",
    "    else:  # opt_type == \"put\"\n",
    "        option_price = K * np.exp(-r * T) * norm.cdf(-d2) - S0 * norm.cdf(-d1)\n",
    "    \n",
    "    return option_price"
   ]
  },
  {
   "cell_type": "code",
   "execution_count": 6,
   "metadata": {},
   "outputs": [
    {
     "name": "stdout",
     "output_type": "stream",
     "text": [
      "The price of the American Call option is: 18.639272426282943\n",
      "The price of the American Put option is: 17.035430968112422\n"
     ]
    }
   ],
   "source": [
    "# Example usage:    \n",
    "S0 = 180\n",
    "r = 0.02\n",
    "sigma = 0.25\n",
    "T = 1\n",
    "K = 182\n",
    "\n",
    "\n",
    "opt_type = \"call\"\n",
    "option_price = european_option_price_BS(S0, r, sigma, T, K, opt_type)\n",
    "print(f\"The price of the American {opt_type.capitalize()} option is: {option_price}\")\n",
    "\n",
    "opt_type = \"put\"\n",
    "option_price = european_option_price_BS(S0, r, sigma, T, K, opt_type)\n",
    "print(f\"The price of the American {opt_type.capitalize()} option is: {option_price}\")"
   ]
  },
  {
   "cell_type": "code",
   "execution_count": null,
   "metadata": {},
   "outputs": [],
   "source": [
    "for file in os.listdir('../option_data/spy_data'):\n",
    "    if file[-4:] == '.csv':\n",
    "        print(file)\n",
    "        df = pd.read_csv('../option_data/spy_data/' + file)        \n",
    "        \n",
    "        # moving to datetime and making features\n",
    "        df['quote_datetime'] = pd.to_datetime(df['quote_datetime'])\n",
    "        df['expiration'] = pd.to_datetime(df['expiration'])\n",
    "        df['quote_date'] = df['quote_datetime'][0].date()\n",
    "        df['quote_date'] = pd.to_datetime(df['quote_date'])\n",
    "        \n",
    "        # getting only 4:00 quotes\n",
    "        eod = datetime.datetime.combine(df['quote_datetime'][0].date(), datetime.time(16,0, 0))\n",
    "        df = df.loc[df['quote_datetime'] == eod]\n",
    "        \n",
    "        # getting time to expiration and moneyness\n",
    "        df['T'] = df['expiration'] - df['quote_date']\n",
    "        df['T'] = df['T'].dt.days\n",
    "        df['moneyness'] = df['active_underlying_price'] / df['strike'] \n",
    "\n",
    "        \n",
    "        # filtering for research paper criteria\n",
    "        df = df.loc[(df['close']!=0) & (df['implied_volatility']!=0) & (df['T']>=20) & (df['T']<=365) & (df['moneyness']>0.7) & (df['moneyness']<1.3)]\n",
    "\n",
    "        calls = df.loc[df['option_type']=='C'][['T', 'moneyness', 'implied_volatility', 'active_underlying_price', 'strike']]\n",
    "        puts = df.loc[df['option_type']=='P'][['T', 'moneyness', 'implied_volatility', 'active_underlying_price', 'strike']]"
   ]
  }
 ],
 "metadata": {
  "kernelspec": {
   "display_name": "Python 3",
   "language": "python",
   "name": "python3"
  },
  "language_info": {
   "codemirror_mode": {
    "name": "ipython",
    "version": 3
   },
   "file_extension": ".py",
   "mimetype": "text/x-python",
   "name": "python",
   "nbconvert_exporter": "python",
   "pygments_lexer": "ipython3",
   "version": "3.9.6"
  }
 },
 "nbformat": 4,
 "nbformat_minor": 2
}
